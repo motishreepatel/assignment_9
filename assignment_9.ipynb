{
 "cells": [
  {
   "cell_type": "code",
   "execution_count": null,
   "metadata": {},
   "outputs": [],
   "source": [
    "#Q - 1. To what does a relative path refer?\n",
    "#Answer:\n",
    "A relative path is a path that is expressed in relation to the current location without specifying the entire path from the root directory.\n",
    "Relative paths are useful when we want to reference files or directories within the same project or within a known structure relative to the current location.  "
   ]
  },
  {
   "cell_type": "code",
   "execution_count": null,
   "metadata": {},
   "outputs": [],
   "source": [
    "#Q - 2. What does an absolute path start with your operating system?\n",
    "#Answer:\n",
    "In most operating systems, including Windows, Linux, and macOS, an absolute path starts with the root directory of the file system. This root directory starts with a special\n",
    "sysmbol which is different in different operating systems.\n",
    "i am using macOS operating system where absolute path starts with a forward slash('/')\n",
    "Exp:\n",
    "/home/user"
   ]
  },
  {
   "cell_type": "code",
   "execution_count": 1,
   "metadata": {},
   "outputs": [
    {
     "name": "stdout",
     "output_type": "stream",
     "text": [
      "Current working directory is:  /Users/Moti/python assignments ineuron\n"
     ]
    }
   ],
   "source": [
    "#Q - 3. What do the functions os.getcwd() and os.chdir() do?\n",
    "#Answer:\n",
    "'''The functions os.getcwd() and os.chdir() are a part of os module in python which are used to interact with file system.\n",
    "os.getcwd() - This function gives us the current working directory as a string'''\n",
    "import os\n",
    "print(\"Current working directory is: \", os.getcwd())\n",
    "\n",
    "'''os.chdir(path) function let us change the current directory path with given path. It accepts a string path.'''"
   ]
  },
  {
   "cell_type": "code",
   "execution_count": null,
   "metadata": {},
   "outputs": [],
   "source": [
    "#Q - 4. What are the . and .. folders?\n",
    "#Answer:\n",
    "By using . and .. in file paths, we can navigate and reference directories relative to the current location without explicitly specifying the full path from the root directory.\n",
    "'.' refers to the current directory\n",
    "'..' refers to parent directory\n",
    "\n",
    "If the current working directory is /home/motishree/files, \n",
    "then '.' refers to /home/motishree/files\n",
    "and '..' refers to /home/motishree"
   ]
  },
  {
   "cell_type": "code",
   "execution_count": null,
   "metadata": {},
   "outputs": [],
   "source": [
    "#Q - 5. In C:\\bacon\\eggs\\spam.txt, which part is the dir name, and which part is the base name?\n",
    "#Answer:\n",
    "In the given file path:\n",
    "directory name is: C:\\bacon\\eggs\n",
    "base name is: spam.txt\n"
   ]
  },
  {
   "cell_type": "code",
   "execution_count": null,
   "metadata": {},
   "outputs": [],
   "source": [
    "#Q - 6. What are the three “mode” arguments that can be passed to the open() function?\n",
    "#Answer:\n",
    "Three mode arguments that can be passed to the open() function in python are:\n",
    "-r(read mode) - This is default mode if nothing is specified.It opens the file for reading but we canot modify or write to iter\n",
    "-w(write mode) - This mode opens the file for writing. If content is already there it truncates it's content. If the file doesn't exist, a new file is created.\n",
    "-a(append mode) - iThis mode opens the file for appending data. If file already exists, it appends athe data at the end of file. If file doesn't exist, we can create a new file."
   ]
  },
  {
   "cell_type": "code",
   "execution_count": null,
   "metadata": {},
   "outputs": [],
   "source": [
    "#Q - 7. What happens if an existing file is opened in write mode?\n",
    "#Answer:\n",
    "If the file already exists: Opening the file in write mode will truncate (clear) the contents of the file. All existing data in the file will be deleted, and the file \n",
    "will be empty. The file pointer will be positioned at the beginning of the file, ready to write new data."
   ]
  },
  {
   "cell_type": "code",
   "execution_count": 5,
   "metadata": {},
   "outputs": [
    {
     "name": "stdout",
     "output_type": "stream",
     "text": [
      "Modern humans arrived on the Indian subcontinent from Africa no later than 55,000 years ago.[28][29][30] Their long occupation, initially in varying forms of \n",
      "isolation as hunter-gatherers, has made the region highly diverse, second only to Africa in human genetic diversity.[31] Settled life emerged on the subcontinent \n",
      "in the western margins of the Indus river basin 9,000 years ago, evolving gradually into the Indus Valley Civilisation of the third millennium BCE.[32] By 1200 BCE,\n",
      " an archaic form of Sanskrit, an Indo-European language, had diffused into India from the northwest.[33][34] Its evidence today is found in the hymns of the \n",
      " Rigveda. Preserved by a resolutely vigilant oral tradition, the Rigveda records the dawning of Hinduism in India.[35] The Dravidian languages of India were \n",
      " supplanted in the northern and western regions.[36] By 400 BCE, stratification and exclusion by caste had emerged within Hinduism,[37] and Buddhism and Jainism \n",
      " had arisen, proclaiming social orders unlinked to heredity.[38] Early political consolidations gave rise to the loose-knit Maurya and Gupta Empires based in the \n",
      " Ganges Basin.[39] Their collective era was suffused with wide-ranging creativity,[40] but also marked by the declining status of women,[41] and the incorporation \n",
      " of untouchability into an organised system of belief.[k][42] In South India, the Middle kingdoms exported Dravidian-languages scripts and religious cultures to \n",
      " the kingdoms of Southeast Asia.[43\n",
      "['Modern humans arrived on the Indian subcontinent from Africa no later than 55,000 years ago.[28][29][30] Their long occupation, initially in varying forms of \\n', 'isolation as hunter-gatherers, has made the region highly diverse, second only to Africa in human genetic diversity.[31] Settled life emerged on the subcontinent \\n', 'in the western margins of the Indus river basin 9,000 years ago, evolving gradually into the Indus Valley Civilisation of the third millennium BCE.[32] By 1200 BCE,\\n', ' an archaic form of Sanskrit, an Indo-European language, had diffused into India from the northwest.[33][34] Its evidence today is found in the hymns of the \\n', ' Rigveda. Preserved by a resolutely vigilant oral tradition, the Rigveda records the dawning of Hinduism in India.[35] The Dravidian languages of India were \\n', ' supplanted in the northern and western regions.[36] By 400 BCE, stratification and exclusion by caste had emerged within Hinduism,[37] and Buddhism and Jainism \\n', ' had arisen, proclaiming social orders unlinked to heredity.[38] Early political consolidations gave rise to the loose-knit Maurya and Gupta Empires based in the \\n', ' Ganges Basin.[39] Their collective era was suffused with wide-ranging creativity,[40] but also marked by the declining status of women,[41] and the incorporation \\n', ' of untouchability into an organised system of belief.[k][42] In South India, the Middle kingdoms exported Dravidian-languages scripts and religious cultures to \\n', ' the kingdoms of Southeast Asia.[43']\n"
     ]
    }
   ],
   "source": [
    "#Q - 8. How do you tell the difference between read() and readlines()?\n",
    "#Answer:\n",
    "'''read() returns a single string including newline characters ('\\n') containing the entire file's contents, \n",
    "while readlines() returns a list of strings, where each string represents a line from the file. The newline characters ('\\n') are included in each line.'''\n",
    "file= open(\"test.txt\",\"r\")\n",
    "print(file.read())\n",
    "file.close()\n",
    "\n",
    "file2 = open(\"test.txt\",\"r\")\n",
    "print(file2.readlines())\n",
    "file.close()"
   ]
  },
  {
   "cell_type": "code",
   "execution_count": null,
   "metadata": {},
   "outputs": [],
   "source": [
    "#Q - 9. What data structure does a shelf value resemble?\n",
    "#Answer:\n",
    "The value stored in a Python shelve object resembles a dictionary data structure.\n",
    "When we store data in a shelve object, it is serialized and stored in a database file. The data is associated with keys, similar to how dictionary values are associated with keys."
   ]
  }
 ],
 "metadata": {
  "kernelspec": {
   "display_name": "Python 3.9.6 64-bit",
   "language": "python",
   "name": "python3"
  },
  "language_info": {
   "codemirror_mode": {
    "name": "ipython",
    "version": 3
   },
   "file_extension": ".py",
   "mimetype": "text/x-python",
   "name": "python",
   "nbconvert_exporter": "python",
   "pygments_lexer": "ipython3",
   "version": "3.9.6"
  },
  "orig_nbformat": 4,
  "vscode": {
   "interpreter": {
    "hash": "31f2aee4e71d21fbe5cf8b01ff0e069b9275f58929596ceb00d14d90e3e16cd6"
   }
  }
 },
 "nbformat": 4,
 "nbformat_minor": 2
}
